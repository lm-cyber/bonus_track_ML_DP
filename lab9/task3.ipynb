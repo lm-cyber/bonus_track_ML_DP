{
 "cells": [
  {
   "cell_type": "markdown",
   "metadata": {},
   "source": [
    "# Lab 9 Task 3"
   ]
  },
  {
   "cell_type": "code",
   "execution_count": 2,
   "metadata": {},
   "outputs": [
    {
     "data": {
      "text/plain": [
       "(1797, 64)"
      ]
     },
     "execution_count": 2,
     "metadata": {},
     "output_type": "execute_result"
    }
   ],
   "source": [
    "from sklearn.datasets import load_digits\n",
    "from sklearn.decomposition import PCA\n",
    "from sklearn.mixture import GaussianMixture\n",
    "import matplotlib.pyplot as plt\n",
    "import numpy as np\n",
    "\n",
    "random_state = 21\n",
    "\n",
    "digits = load_digits()\n",
    "digits.data.shape"
   ]
  },
  {
   "cell_type": "code",
   "execution_count": 3,
   "metadata": {},
   "outputs": [
    {
     "name": "stdout",
     "output_type": "stream",
     "text": [
      "3.1: 41\n"
     ]
    }
   ],
   "source": [
    "pca = PCA(n_components=0.99, svd_solver='full')\n",
    "digits_pca = pca.fit_transform(digits.data)\n",
    "print('3.1:', digits_pca.shape[1])"
   ]
  },
  {
   "cell_type": "code",
   "execution_count": 4,
   "metadata": {},
   "outputs": [
    {
     "name": "stdout",
     "output_type": "stream",
     "text": [
      "3.2: 160\n"
     ]
    }
   ],
   "source": [
    "min_aic = float('inf')\n",
    "min_aic_n = 0\n",
    "\n",
    "for n_components in range(50, 250, 10):\n",
    "    gm = GaussianMixture(n_components=n_components, covariance_type='full', random_state=random_state)\n",
    "    \n",
    "    gm.fit(digits_pca)\n",
    "\n",
    "    if (gm.aic(digits_pca) < min_aic):\n",
    "        min_aic = gm.aic(digits_pca)\n",
    "        min_aic_n = n_components\n",
    "\n",
    "print('3.2:', min_aic_n)"
   ]
  },
  {
   "cell_type": "code",
   "execution_count": 5,
   "metadata": {},
   "outputs": [
    {
     "name": "stdout",
     "output_type": "stream",
     "text": [
      "3.3: 0.18933660216142073\n"
     ]
    }
   ],
   "source": [
    "gm = GaussianMixture(n_components=min_aic_n, covariance_type='full', random_state=random_state)\n",
    "gm.fit(digits_pca)\n",
    "samples, _ = gm.sample(100)\n",
    "print('3.3:', samples[:, 0].mean())"
   ]
  },
  {
   "cell_type": "code",
   "execution_count": 6,
   "metadata": {},
   "outputs": [
    {
     "name": "stdout",
     "output_type": "stream",
     "text": [
      "3.4:\n"
     ]
    },
    {
     "data": {
      "image/png": "[encoded data removed]",
      "text/plain": [
       "<Figure size 640x480 with 1 Axes>"
      ]
     },
     "metadata": {},
     "output_type": "display_data"
    }
   ],
   "source": [
    "inverse_samples = pca.inverse_transform(samples)\n",
    "plt.imshow(inverse_samples[5].reshape((8, 8)), cmap='gray_r')\n",
    "print('3.4:')"
   ]
  }
 ],
 "metadata": {
  "interpreter": {
   "hash": "f441125be57e159650267759ec2248efe54b15ad347e99e3f26931a9aa1467de"
  },
  "kernelspec": {
   "display_name": "Python 3.10.5 64-bit",
   "language": "python",
   "name": "python3"
  },
  "language_info": {
   "codemirror_mode": {
    "name": "ipython",
    "version": 3
   },
   "file_extension": ".py",
   "mimetype": "text/x-python",
   "name": "python",
   "nbconvert_exporter": "python",
   "pygments_lexer": "ipython3",
   "version": "3.10.5"
  },
  "orig_nbformat": 4
 },
 "nbformat": 4,
 "nbformat_minor": 2
}
